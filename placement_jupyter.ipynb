{
 "cells": [
  {
   "cell_type": "code",
   "execution_count": 3,
   "metadata": {},
   "outputs": [],
   "source": [
    "import pandas as pd\n",
    "import numpy as np\n",
    "import warnings\n",
    "import json\n",
    "import re\n",
    "\n",
    "warnings.filterwarnings('ignore')\n",
    "pd.set_option('display.max_columns', None)"
   ]
  },
  {
   "cell_type": "code",
   "execution_count": 4,
   "metadata": {},
   "outputs": [],
   "source": [
    "# Read File\n",
    "file1 = open('pods_configuration.txt', 'r') \n",
    "Lines = file1.readlines() "
   ]
  },
  {
   "cell_type": "code",
   "execution_count": 5,
   "metadata": {},
   "outputs": [],
   "source": [
    "rows = []\n",
    "cols = []\n",
    "count = 0\n",
    "# Strips the newline character \n",
    "for line in Lines: \n",
    "    #Read line\n",
    "    data = line.strip()\n",
    "    #Make the line into an array of chars\n",
    "    res = [val for idx, val in enumerate(data) if val or (not val and data[idx - 1])]\n",
    "    temp_string = \"\"\n",
    "    temp_row = []\n",
    "    mono_spaced = False # To allow single spaced strings\n",
    "    for index, x in enumerate(res):\n",
    "        # Check if the next char is blank\n",
    "        if x == \" \":\n",
    "            # Omit all blank spaces except those who are after non empty strings\n",
    "            if temp_string != \"\":\n",
    "                if not mono_spaced:\n",
    "                    mono_spaced = True\n",
    "                    continue\n",
    "                else:\n",
    "                        if count == 0:\n",
    "                            cols.append(temp_string) \n",
    "                        else:\n",
    "                            temp_row.append(temp_string)\n",
    "                        mono_spaced = False\n",
    "                        temp_string = \"\"\n",
    "                        continue\n",
    "        else:\n",
    "            #Check if only one space exists between two strings\n",
    "            if mono_spaced:\n",
    "                temp_string = temp_string + \" \" + x\n",
    "                mono_spaced = False\n",
    "            else:\n",
    "                temp_string = temp_string + x\n",
    "    if count == 0:\n",
    "        cols.append(temp_string)\n",
    "    else:\n",
    "        temp_row.append(temp_string)\n",
    "        rows.append(temp_row)\n",
    "    count += 1"
   ]
  },
  {
   "cell_type": "code",
   "execution_count": 6,
   "metadata": {},
   "outputs": [],
   "source": [
    "# Produce the Dataframe\n",
    "dfile = pd.DataFrame(rows)\n",
    "for idx, val in enumerate(dfile.columns):\n",
    "    dfile = dfile.rename(columns={idx:str(cols[idx])})\n",
    "cluster_nodes = {}"
   ]
  },
  {
   "cell_type": "code",
   "execution_count": 7,
   "metadata": {},
   "outputs": [
    {
     "data": {
      "text/plain": [
       "{'gke-ixen-ixen-pool-0d9808bc-m2sm': {'apache-deployment-87f5cd9d6-k6mgr': '1/1',\n",
       "  'comet-deployment-7d549f7d96-hpr6d': '1/1',\n",
       "  'cygnusproxy-deployment-59dfbd659b-vk9dx': '1/1',\n",
       "  'keyrock-deployment-77d5cff6fb-2jsxc': '1/1',\n",
       "  'sthcometproxy-deployment-6c5df6588c-jf4fq': '1/1'},\n",
       " 'gke-ixen-ixen-pool-0d9808bc-nq5w': {'authzforce-deployment-74dd75c5d5-ttgcx': '1/1',\n",
       "  'cygnus-deployment-788654b5f7-l8gbg': '1/1',\n",
       "  'mongo-5cd5475687-ttd6l': '1/1',\n",
       "  'nodered-deployment-7bbc78b7f5-l6j8q': '1/1',\n",
       "  'orionproxy-deployment-7f89d65fbb-c96j8': '1/1',\n",
       "  'queryingsensors-6df56556f6-tr2ws': '1/1'},\n",
       " 'gke-ixen-ixen-pool-0d9808bc-bwb9': {'mysql-deployment-8655c784d7-vfphw': '1/1',\n",
       "  'noderedproxy-deployment-6cbfc88c5d-fwgff': '1/1',\n",
       "  'orion-6d8595498f-xjqx8': '1/1',\n",
       "  'queryingsensorsproxy-deployment-5db66c4566-567cd': '1/1'}}"
      ]
     },
     "execution_count": 7,
     "metadata": {},
     "output_type": "execute_result"
    }
   ],
   "source": [
    "# Initialize Dictionary of Cluster Nodes\n",
    "for idx, val in enumerate(dfile.loc[:,\"NODE\"]):\n",
    "    if val in cluster_nodes:\n",
    "        continue\n",
    "    else:\n",
    "        cluster_nodes[val] = {}\n",
    "\n",
    "# Assign Pods to Specific Nodes\n",
    "for idx, val in enumerate(dfile.loc[:,\"NAME\"]):\n",
    "    curr_node = dfile.loc[idx,\"NODE\"]\n",
    "    instances = dfile.loc[idx,\"READY\"]\n",
    "    cluster_nodes[curr_node][val] = instances\n",
    "cluster_nodes"
   ]
  },
  {
   "cell_type": "code",
   "execution_count": null,
   "metadata": {},
   "outputs": [],
   "source": []
  },
  {
   "cell_type": "code",
   "execution_count": null,
   "metadata": {},
   "outputs": [],
   "source": []
  },
  {
   "cell_type": "code",
   "execution_count": 59,
   "metadata": {},
   "outputs": [],
   "source": []
  },
  {
   "cell_type": "code",
   "execution_count": null,
   "metadata": {},
   "outputs": [],
   "source": []
  },
  {
   "cell_type": "code",
   "execution_count": null,
   "metadata": {},
   "outputs": [],
   "source": []
  },
  {
   "cell_type": "code",
   "execution_count": 21,
   "metadata": {},
   "outputs": [],
   "source": []
  },
  {
   "cell_type": "code",
   "execution_count": null,
   "metadata": {},
   "outputs": [],
   "source": []
  },
  {
   "cell_type": "code",
   "execution_count": null,
   "metadata": {},
   "outputs": [],
   "source": []
  },
  {
   "cell_type": "code",
   "execution_count": null,
   "metadata": {},
   "outputs": [],
   "source": []
  },
  {
   "cell_type": "code",
   "execution_count": null,
   "metadata": {},
   "outputs": [],
   "source": []
  },
  {
   "cell_type": "code",
   "execution_count": null,
   "metadata": {},
   "outputs": [],
   "source": []
  }
 ],
 "metadata": {
  "kernelspec": {
   "display_name": "Python 3",
   "language": "python",
   "name": "python3"
  },
  "language_info": {
   "codemirror_mode": {
    "name": "ipython",
    "version": 3
   },
   "file_extension": ".py",
   "mimetype": "text/x-python",
   "name": "python",
   "nbconvert_exporter": "python",
   "pygments_lexer": "ipython3",
   "version": "3.7.9"
  }
 },
 "nbformat": 4,
 "nbformat_minor": 4
}
