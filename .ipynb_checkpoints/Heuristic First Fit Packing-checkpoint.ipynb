{
 "cells": [
  {
   "cell_type": "code",
   "execution_count": 1,
   "metadata": {},
   "outputs": [],
   "source": [
    "import pandas as pd\n",
    "import numpy as np\n",
    "import warnings\n",
    "import json\n",
    "import re\n",
    "import requests\n",
    "import pprint\n",
    "import operator\n",
    "import copy\n",
    "\n",
    "warnings.filterwarnings('ignore')\n",
    "pd.set_option('display.max_columns', None)"
   ]
  },
  {
   "cell_type": "code",
   "execution_count": 2,
   "metadata": {},
   "outputs": [],
   "source": [
    "# General Info of Placement\n",
    "vm_external_ip = \"34.141.8.255\" #External ip for host machine to fetch the data\n",
    "kiali_port = 32002\n",
    "prometheus_port = 32003\n",
    "\n",
    "namespace = \"default\" # the namespace of the app \n",
    "\n",
    "cluster_id = \"onlineboutique\" # Cluster name\n",
    "\n",
    "cluster_pool = \"default-pool\" # Node pool\n",
    "\n",
    "project_id = \"single-verve-297917\" # Project-ID\n",
    "\n",
    "zone = \"europe-west3-b\" # Project-zone\n",
    "\n",
    "vm_threshold_per_pod = 0.1 # Threshold for reserving sufficient resources for each pod\n",
    "\n",
    "# Connect to cluster command\n",
    "connection_command = \"gcloud container clusters get-credentials onlineboutique --zone europe-west3-b --project single-verve-297917\""
   ]
  },
  {
   "cell_type": "code",
   "execution_count": 21,
   "metadata": {},
   "outputs": [
    {
     "name": "stdout",
     "output_type": "stream",
     "text": [
      "Number of hosts : 4\n"
     ]
    },
    {
     "data": {
      "text/plain": [
       "'7408697344.0'"
      ]
     },
     "execution_count": 21,
     "metadata": {},
     "output_type": "execute_result"
    }
   ],
   "source": [
    "# Information metrics from prometheus about current nodes and pods\n",
    "\n",
    "# Url from prometheus\n",
    "url_prometheus = \"http://\"+vm_external_ip+\":\"+str(prometheus_port)+\"/api/v1/query\"\n",
    "\n",
    "# RAM USAGE PERCENT\n",
    "# (1 - (node_memory_MemAvailable_bytes / (node_memory_MemTotal_bytes)))* 100\n",
    "# # CPU USAGE PERCENT\n",
    "# (1 - avg(rate(node_cpu_seconds_total{mode=\"idle\"}[30m])) by (instance)) * 100\n",
    "\n",
    "# #PODS CPU USAGE PERCENT (EXCEPT NODE-EXPORTERS)\n",
    "# avg(rate(container_cpu_usage_seconds_total{pod!~\"billowing.*\", namespace='default'}[30m])) by (pod) *100\n",
    "\n",
    "# #PODS MEMORY USAGE (EXCEPT NODE-EXPORTERS)\n",
    "# avg(container_memory_max_usage_bytes{namespace=\"default\", pod!~\"billowing.*\"}) by(pod)\n",
    "\n",
    "# Queries for useful information of Prometheus\n",
    "query_node_cpu = {\"query\":\"avg(rate(node_cpu_seconds_total{mode='idle'}[30m])) by (instance)\"}\n",
    "query_node_ram = {\"query\":\"node_memory_MemAvailable_bytes\"}\n",
    "\n",
    "# Headers of cURL command\n",
    "headers_prometheus = {\n",
    "    'cache-control': \"no-cache\"\n",
    "}\n",
    "\n",
    "# cURL command for Node Ram Usage\n",
    "response = requests.request(\"GET\", url_prometheus, headers=headers_prometheus, params=query_node_ram)\n",
    "response_status = response.status_code\n",
    "result=json.loads(response.text)\n",
    "\n",
    "number_of_hosts = len(result[\"data\"][\"result\"])\n",
    "host_machines = []\n",
    "node_available_ram = {}\n",
    "print(\"Number of hosts : \" + str(number_of_hosts))\n",
    "for i in range(number_of_hosts):\n",
    "    host_machines.append(result[\"data\"][\"result\"][i][\"metric\"][\"kubernetes_node\"])\n",
    "    node_available_ram[host_machines[i]] = format(float(result[\"data\"][\"result\"][i][\"value\"][1]), '.1f')\n",
    "node_available_ram\n",
    "max(node_available_ram.values())"
   ]
  },
  {
   "cell_type": "code",
   "execution_count": 4,
   "metadata": {},
   "outputs": [
    {
     "data": {
      "text/plain": [
       "{'gke-onlineboutique-default-pool-db17c72b-phxm': '0.6418',\n",
       " 'gke-onlineboutique-default-pool-db17c72b-4hwg': '0.6869',\n",
       " 'gke-onlineboutique-default-pool-db17c72b-jl1c': '0.6464',\n",
       " 'gke-onlineboutique-default-pool-db17c72b-tds3': '0.6727'}"
      ]
     },
     "execution_count": 4,
     "metadata": {},
     "output_type": "execute_result"
    }
   ],
   "source": [
    "# cURL command for Node Available CPU\n",
    "response = requests.request(\"GET\", url_prometheus, headers=headers_prometheus, params=query_node_cpu)\n",
    "response_status = response.status_code\n",
    "result=json.loads(response.text)\n",
    "\n",
    "node_available_cpu = {}\n",
    "for i in range(number_of_hosts):\n",
    "     node_available_cpu[host_machines[i]] = format(float(result[\"data\"][\"result\"][i][\"value\"][1]), '.4f')\n",
    "node_available_cpu"
   ]
  },
  {
   "cell_type": "code",
   "execution_count": 5,
   "metadata": {},
   "outputs": [
    {
     "data": {
      "text/plain": [
       "{'gke-onlineboutique-default-pool-db17c72b-jl1c': '0.731',\n",
       " 'gke-onlineboutique-default-pool-db17c72b-phxm': '1.343',\n",
       " 'gke-onlineboutique-default-pool-db17c72b-4hwg': '0.893',\n",
       " 'gke-onlineboutique-default-pool-db17c72b-tds3': '0.831'}"
      ]
     },
     "execution_count": 5,
     "metadata": {},
     "output_type": "execute_result"
    }
   ],
   "source": [
    "app_request = {\"query\":\"sum(kube_pod_container_resource_requests_cpu_cores) by (node)\"}\n",
    "\n",
    "# cURL command for Node Ram Usage\n",
    "response = requests.request(\"GET\", url_prometheus, headers=headers_prometheus, params=app_request)\n",
    "response_status = response.status_code\n",
    "result=json.loads(response.text)\n",
    "\n",
    "node_request_cpu = {}\n",
    "for x in result['data']['result']:\n",
    "    node_request_cpu[x['metric']['node']] = format(float(x['value'][1]), '.3f')\n",
    "node_request_cpu"
   ]
  },
  {
   "cell_type": "code",
   "execution_count": 6,
   "metadata": {},
   "outputs": [
    {
     "data": {
      "text/plain": [
       "{'gke-onlineboutique-default-pool-db17c72b-tds3': '705691648.000',\n",
       " 'gke-onlineboutique-default-pool-db17c72b-jl1c': '1063256064.000',\n",
       " 'gke-onlineboutique-default-pool-db17c72b-phxm': '3210739712.000',\n",
       " 'gke-onlineboutique-default-pool-db17c72b-4hwg': '851443712.000'}"
      ]
     },
     "execution_count": 6,
     "metadata": {},
     "output_type": "execute_result"
    }
   ],
   "source": [
    "app_request = {\"query\":\"sum(kube_pod_container_resource_requests_memory_bytes) by (node)\"}\n",
    "\n",
    "# cURL command for Node Ram Usage\n",
    "response = requests.request(\"GET\", url_prometheus, headers=headers_prometheus, params=app_request)\n",
    "response_status = response.status_code\n",
    "result=json.loads(response.text)\n",
    "\n",
    "node_request_ram = {}\n",
    "for x in result['data']['result']:\n",
    "    node_request_ram[x['metric']['node']] = format(float(x['value'][1]), '.3f')\n",
    "node_request_ram"
   ]
  },
  {
   "cell_type": "code",
   "execution_count": 7,
   "metadata": {},
   "outputs": [
    {
     "data": {
      "text/plain": [
       "{'productcatalogservice-7fcf4f8cc-jf2jg': '109051904.000',\n",
       " 'checkoutservice-784bfc794f-qch75': '109051904.000',\n",
       " 'currencyservice-5898885559-q4xh8': '109051904.000',\n",
       " 'emailservice-6bd8b47657-ltptz': '109051904.000',\n",
       " 'loadgenerator-84cbcd768c-5ktn6': '310378496.000',\n",
       " 'frontend-764c5c755f-6f52w': '109051904.000',\n",
       " 'recommendationservice-79f5f4bbf5-wqwff': '272629760.000',\n",
       " 'cartservice-d7db78c66-27hmx': '109051904.000',\n",
       " 'adservice-7cbc9bd9-fwqz7': '230686720.000',\n",
       " 'shippingservice-b5879cdbf-5mlx7': '109051904.000',\n",
       " 'paymentservice-6c676df669-z7s4d': '109051904.000',\n",
       " 'redis-cart-74594bd569-6lw6x': '251658240.000'}"
      ]
     },
     "execution_count": 7,
     "metadata": {},
     "output_type": "execute_result"
    }
   ],
   "source": [
    "app_request = {\"query\":\"sum(kube_pod_container_resource_requests_memory_bytes{namespace='default'}) by (pod)\"}\n",
    "\n",
    "# cURL command for Node Ram Usage\n",
    "response = requests.request(\"GET\", url_prometheus, headers=headers_prometheus, params=app_request)\n",
    "response_status = response.status_code\n",
    "result=json.loads(response.text)\n",
    "\n",
    "pod_request_ram = {}\n",
    "for x in result['data']['result']:\n",
    "    pod_request_ram[x['metric']['pod']] = format(float(x['value'][1]), '.3f')\n",
    "pod_request_ram"
   ]
  },
  {
   "cell_type": "code",
   "execution_count": 8,
   "metadata": {},
   "outputs": [
    {
     "data": {
      "text/plain": [
       "{'currencyservice-5898885559-q4xh8': '0.110',\n",
       " 'paymentservice-6c676df669-z7s4d': '0.110',\n",
       " 'redis-cart-74594bd569-6lw6x': '0.080',\n",
       " 'loadgenerator-84cbcd768c-5ktn6': '0.310',\n",
       " 'shippingservice-b5879cdbf-5mlx7': '0.110',\n",
       " 'checkoutservice-784bfc794f-qch75': '0.110',\n",
       " 'frontend-764c5c755f-6f52w': '0.110',\n",
       " 'recommendationservice-79f5f4bbf5-wqwff': '0.110',\n",
       " 'cartservice-d7db78c66-27hmx': '0.210',\n",
       " 'productcatalogservice-7fcf4f8cc-jf2jg': '0.110',\n",
       " 'adservice-7cbc9bd9-fwqz7': '0.210',\n",
       " 'emailservice-6bd8b47657-ltptz': '0.110'}"
      ]
     },
     "execution_count": 8,
     "metadata": {},
     "output_type": "execute_result"
    }
   ],
   "source": [
    "app_request = {\"query\":\"sum(kube_pod_container_resource_requests_cpu_cores{namespace='default'}) by (pod)\"}\n",
    "\n",
    "# cURL command for Node Ram Usage\n",
    "response = requests.request(\"GET\", url_prometheus, headers=headers_prometheus, params=app_request)\n",
    "response_status = response.status_code\n",
    "result=json.loads(response.text)\n",
    "\n",
    "pod_request_cpu = {}\n",
    "for x in result['data']['result']:\n",
    "    pod_request_cpu[x['metric']['pod']] = format(float(x['value'][1]), '.3f')\n",
    "pod_request_cpu"
   ]
  },
  {
   "cell_type": "code",
   "execution_count": 9,
   "metadata": {},
   "outputs": [
    {
     "data": {
      "text/plain": [
       "{'gke-onlineboutique-default-pool-db17c72b-4hwg': '6340206592',\n",
       " 'gke-onlineboutique-default-pool-db17c72b-jl1c': '6340198400',\n",
       " 'gke-onlineboutique-default-pool-db17c72b-phxm': '6340206592',\n",
       " 'gke-onlineboutique-default-pool-db17c72b-tds3': '6340206592'}"
      ]
     },
     "execution_count": 9,
     "metadata": {},
     "output_type": "execute_result"
    }
   ],
   "source": [
    "app_request = {\"query\":\"kube_node_status_allocatable{resource='memory'}\"}\n",
    "\n",
    "# cURL command for Node Ram Usage\n",
    "response = requests.request(\"GET\", url_prometheus, headers=headers_prometheus, params=app_request)\n",
    "response_status = response.status_code\n",
    "result=json.loads(response.text)\n",
    "\n",
    "node_allocated_ram = {}\n",
    "for x in result['data']['result']:\n",
    "    node_allocated_ram[x['metric']['node']] = x['value'][1]\n",
    "node_allocated_ram"
   ]
  },
  {
   "cell_type": "code",
   "execution_count": 10,
   "metadata": {},
   "outputs": [
    {
     "data": {
      "text/plain": [
       "{'gke-onlineboutique-default-pool-db17c72b-4hwg': '1.93',\n",
       " 'gke-onlineboutique-default-pool-db17c72b-jl1c': '1.93',\n",
       " 'gke-onlineboutique-default-pool-db17c72b-phxm': '1.93',\n",
       " 'gke-onlineboutique-default-pool-db17c72b-tds3': '1.93'}"
      ]
     },
     "execution_count": 10,
     "metadata": {},
     "output_type": "execute_result"
    }
   ],
   "source": [
    "app_request = {\"query\":\"kube_node_status_allocatable{resource='cpu'}\"}\n",
    "\n",
    "# cURL command for Node Ram Usage\n",
    "response = requests.request(\"GET\", url_prometheus, headers=headers_prometheus, params=app_request)\n",
    "response_status = response.status_code\n",
    "result=json.loads(response.text)\n",
    "\n",
    "node_allocated_cpu = {}\n",
    "for x in result['data']['result']:\n",
    "    node_allocated_cpu[x['metric']['node']] = x['value'][1]\n",
    "node_allocated_cpu"
   ]
  },
  {
   "cell_type": "code",
   "execution_count": 11,
   "metadata": {},
   "outputs": [
    {
     "data": {
      "text/plain": [
       "['gke-onlineboutique-default-pool-db17c72b-4hwg',\n",
       " 'gke-onlineboutique-default-pool-db17c72b-jl1c',\n",
       " 'gke-onlineboutique-default-pool-db17c72b-phxm',\n",
       " 'gke-onlineboutique-default-pool-db17c72b-tds3']"
      ]
     },
     "execution_count": 11,
     "metadata": {},
     "output_type": "execute_result"
    }
   ],
   "source": [
    "host_list = []\n",
    "for host in node_allocated_cpu:\n",
    "    host_list.append(host)\n",
    "host_list"
   ]
  },
  {
   "cell_type": "code",
   "execution_count": 12,
   "metadata": {},
   "outputs": [
    {
     "data": {
      "text/plain": [
       "{'gke-onlineboutique-default-pool-db17c72b-phxm': ['frontend-764c5c755f-6f52w',\n",
       "  'recommendationservice-79f5f4bbf5-wqwff',\n",
       "  'emailservice-6bd8b47657-ltptz',\n",
       "  'loadgenerator-84cbcd768c-5ktn6'],\n",
       " 'gke-onlineboutique-default-pool-db17c72b-4hwg': ['shippingservice-b5879cdbf-5mlx7',\n",
       "  'adservice-7cbc9bd9-fwqz7'],\n",
       " 'gke-onlineboutique-default-pool-db17c72b-jl1c': ['currencyservice-5898885559-q4xh8',\n",
       "  'paymentservice-6c676df669-z7s4d',\n",
       "  'checkoutservice-784bfc794f-qch75',\n",
       "  'redis-cart-74594bd569-6lw6x'],\n",
       " 'gke-onlineboutique-default-pool-db17c72b-tds3': ['productcatalogservice-7fcf4f8cc-jf2jg',\n",
       "  'cartservice-d7db78c66-27hmx']}"
      ]
     },
     "execution_count": 12,
     "metadata": {},
     "output_type": "execute_result"
    }
   ],
   "source": [
    "# POD CPU USAGE\n",
    "deployment_pods = []\n",
    "pod_usage_cpu = {}\n",
    "initial_placement = {}\n",
    "for i in range(number_of_hosts):\n",
    "    query_pod_cpu = {\"query\":\"avg(rate(container_cpu_usage_seconds_total{kubernetes_io_hostname='\"+str(host_machines[i])+\"',pod!~'billowing.*', namespace='default'}[30m])) by (pod)\"}\n",
    "    pod_usage_cpu[host_machines[i]] = {}\n",
    "    \n",
    "    # cURL command for Pod Cpu Usage\n",
    "    response = requests.request(\"GET\", url_prometheus, headers=headers_prometheus, params=query_pod_cpu)\n",
    "    response_status = response.status_code\n",
    "    result=json.loads(response.text)\n",
    "    \n",
    "    initial_placement[host_machines[i]] = []\n",
    "    service_list = []\n",
    "    number_of_pods = len(result[\"data\"][\"result\"])\n",
    "    for k in range(number_of_pods):\n",
    "         service_list.append(result[\"data\"][\"result\"][k][\"metric\"][\"pod\"])\n",
    "         initial_placement[host_machines[i]].append(service_list[k])\n",
    "         pod_usage_cpu[host_machines[i]][service_list[k]] = format(float(result[\"data\"][\"result\"][k][\"value\"][1]), '.4f')\n",
    "    deployment_pods.append(service_list)\n",
    "    service_list.clear()\n",
    "initial_placement"
   ]
  },
  {
   "cell_type": "code",
   "execution_count": 13,
   "metadata": {},
   "outputs": [
    {
     "data": {
      "text/plain": [
       "{'gke-onlineboutique-default-pool-db17c72b-phxm': {'emailservice-6bd8b47657-ltptz': '45655040.0',\n",
       "  'loadgenerator-84cbcd768c-5ktn6': '46078976.0',\n",
       "  'frontend-764c5c755f-6f52w': '34457600.0',\n",
       "  'recommendationservice-79f5f4bbf5-wqwff': '46362624.0'},\n",
       " 'gke-onlineboutique-default-pool-db17c72b-4hwg': {'shippingservice-b5879cdbf-5mlx7': '30121984.0',\n",
       "  'adservice-7cbc9bd9-fwqz7': '89632768.0'},\n",
       " 'gke-onlineboutique-default-pool-db17c72b-jl1c': {'checkoutservice-784bfc794f-qch75': '33368064.0',\n",
       "  'redis-cart-74594bd569-6lw6x': '26094592.0',\n",
       "  'currencyservice-5898885559-q4xh8': '43339776.0',\n",
       "  'paymentservice-6c676df669-z7s4d': '38755328.0'},\n",
       " 'gke-onlineboutique-default-pool-db17c72b-tds3': {'cartservice-d7db78c66-27hmx': '49955840.0',\n",
       "  'productcatalogservice-7fcf4f8cc-jf2jg': '31676416.0'}}"
      ]
     },
     "execution_count": 13,
     "metadata": {},
     "output_type": "execute_result"
    }
   ],
   "source": [
    "# POD RAM USAGE\n",
    "pod_usage_ram = {}\n",
    "\n",
    "for i in range(number_of_hosts):\n",
    "    query_pod_ram = {\"query\":\"avg(container_memory_max_usage_bytes{instance='\"+host_machines[i]+\"', namespace='default', pod!~'billowing.*'}) by(pod)\"}\n",
    "    pod_usage_ram[host_machines[i]] = {}\n",
    "    \n",
    "    # cURL command for Pod Ram Usage\n",
    "    response = requests.request(\"GET\", url_prometheus, headers=headers_prometheus, params=query_pod_ram)\n",
    "    response_status = response.status_code\n",
    "    result=json.loads(response.text)\n",
    "    \n",
    "    number_of_pods = len(result[\"data\"][\"result\"])\n",
    "    for k in range(number_of_pods):\n",
    "         pod = result[\"data\"][\"result\"][k][\"metric\"][\"pod\"]\n",
    "         pod_usage_ram[host_machines[i]][pod] = format(float(result[\"data\"][\"result\"][k][\"value\"][1]), '.1f')\n",
    "pod_usage_ram"
   ]
  },
  {
   "cell_type": "code",
   "execution_count": 14,
   "metadata": {},
   "outputs": [],
   "source": [
    "#Graph Integration from Kiali - Services and Affinities\n",
    "\n",
    "# Url of Kiali Graph\n",
    "url_kiali = \"http://\"+vm_external_ip+\":\"+str(kiali_port)+\"/kiali/api/namespaces/graph\"\n",
    "\n",
    "query_string_kiali = {\"duration\":\"30m\",\"namespaces\":namespace,\"graphType\":\"workload\"} # Graph type must be Wokload and i can change the graph duration\n",
    "\n",
    "headers_kiali = {\n",
    "    'cache-control': \"no-cache\"\n",
    "}\n",
    "\n",
    "# cURL command\n",
    "response = requests.request(\"GET\", url_kiali, headers=headers_kiali, params=query_string_kiali)\n",
    "\n",
    "response_status = response.status_code\n",
    "\n",
    "result=json.loads(response.text)\n",
    "# INFO NOTE: redis-cart won't appear from kiali graph. There must be internal communication between car\n",
    "#            cartservice and redis-cart so these two pods should be together and calculate as one\n",
    "# Graph Services ID\n",
    "\n",
    "services_id = {}\n",
    "unused_services_id = {}\n",
    "for i in range(len(result[\"elements\"][\"nodes\"])):\n",
    "    if(result[\"elements\"][\"nodes\"][i][\"data\"][\"namespace\"] == namespace):\n",
    "        if(\"app\" not in result[\"elements\"][\"nodes\"][i][\"data\"] or \"traffic\" not in result[\"elements\"][\"nodes\"][i][\"data\"]):\n",
    "            if(\"app\" in result[\"elements\"][\"nodes\"][i][\"data\"]):\n",
    "                key = result[\"elements\"][\"nodes\"][i][\"data\"][\"id\"]\n",
    "                unused_services_id[key] = result[\"elements\"][\"nodes\"][i][\"data\"][\"app\"]\n",
    "                continue\n",
    "            key = result[\"elements\"][\"nodes\"][i][\"data\"][\"id\"]\n",
    "            unused_services_id[key] = result[\"elements\"][\"nodes\"][i][\"data\"][\"service\"]\n",
    "            continue\n",
    "        key = result[\"elements\"][\"nodes\"][i][\"data\"][\"id\"]\n",
    "        services_id[key] = result[\"elements\"][\"nodes\"][i][\"data\"][\"app\"]"
   ]
  },
  {
   "cell_type": "code",
   "execution_count": 15,
   "metadata": {},
   "outputs": [
    {
     "name": "stdout",
     "output_type": "stream",
     "text": [
      "{'checkoutservice': {'cartservice': '9',\n",
      "                     'currencyservice': '5',\n",
      "                     'emailservice': '10',\n",
      "                     'paymentservice': '7',\n",
      "                     'productcatalogservice': '5',\n",
      "                     'shippingservice': '5'},\n",
      " 'frontend': {'adservice': '8',\n",
      "              'cartservice': '8',\n",
      "              'checkoutservice': '155',\n",
      "              'currencyservice': '5',\n",
      "              'productcatalogservice': '5',\n",
      "              'recommendationservice': '10',\n",
      "              'shippingservice': '5'},\n",
      " 'loadgenerator': {'frontend': '95'},\n",
      " 'recommendationservice': {'productcatalogservice': '5'}}\n",
      "{'checkoutservice': {'cartservice': '0.14',\n",
      "                     'currencyservice': '0.23',\n",
      "                     'emailservice': '0.07',\n",
      "                     'paymentservice': '0.07',\n",
      "                     'productcatalogservice': '0.16',\n",
      "                     'shippingservice': '0.14'},\n",
      " 'frontend': {'adservice': '1.14',\n",
      "              'cartservice': '1.75',\n",
      "              'checkoutservice': '0.07',\n",
      "              'currencyservice': '5.74',\n",
      "              'productcatalogservice': '8.96',\n",
      "              'recommendationservice': '1.39',\n",
      "              'shippingservice': '0.41'},\n",
      " 'loadgenerator': {'frontend': '1.96'},\n",
      " 'recommendationservice': {'productcatalogservice': '1.39'}}\n"
     ]
    }
   ],
   "source": [
    "# Graph edges - Affinities\n",
    "service_affinities = {}\n",
    "service_response_times = {}\n",
    "total_edjes =len(result[\"elements\"][\"edges\"]) \n",
    "for i in range(total_edjes):\n",
    "    source_id=result[\"elements\"][\"edges\"][i][\"data\"][\"source\"] # Source ID\n",
    "    destination_id=result[\"elements\"][\"edges\"][i][\"data\"][\"target\"] # Destination ID\n",
    "    # Avoid traces from unused services dictionary\n",
    "    if((source_id in unused_services_id.keys()) or (destination_id in unused_services_id.keys())):\n",
    "        continue\n",
    "    \n",
    "    # Track all traces in service id\n",
    "    if((source_id in services_id.keys()) and (destination_id in services_id.keys())):\n",
    "        if(services_id[source_id] not in service_affinities.keys()):\n",
    "            service_affinities[services_id[source_id]] = {}\n",
    "            service_response_times[services_id[source_id]] ={}\n",
    "        if(result[\"elements\"][\"edges\"][i][\"data\"][\"traffic\"][\"protocol\"] == \"http\"):\n",
    "            protocol = \"http\"\n",
    "        else:\n",
    "            protocol = \"grpc\"\n",
    "        service_affinities[services_id[source_id]][services_id[destination_id]] = result[\"elements\"][\"edges\"][i][\"data\"][\"traffic\"][\"rates\"][protocol]\n",
    "        service_response_times[services_id[source_id]][services_id[destination_id]] = result[\"elements\"][\"edges\"][i][\"data\"][\"responseTime\"]\n",
    "pprint.pprint(service_response_times)\n",
    "pprint.pprint(service_affinities)"
   ]
  },
  {
   "cell_type": "code",
   "execution_count": 16,
   "metadata": {},
   "outputs": [
    {
     "data": {
      "text/plain": [
       "{'frontend->productcatalogservice': 8.96,\n",
       " 'frontend->currencyservice': 5.74,\n",
       " 'loadgenerator->frontend': 1.96,\n",
       " 'frontend->cartservice': 1.75,\n",
       " 'recommendationservice->productcatalogservice': 1.39,\n",
       " 'frontend->recommendationservice': 1.39,\n",
       " 'frontend->adservice': 1.14,\n",
       " 'frontend->shippingservice': 0.41,\n",
       " 'checkoutservice->currencyservice': 0.23,\n",
       " 'checkoutservice->productcatalogservice': 0.16,\n",
       " 'checkoutservice->cartservice': 0.14,\n",
       " 'checkoutservice->shippingservice': 0.14,\n",
       " 'checkoutservice->emailservice': 0.07,\n",
       " 'checkoutservice->paymentservice': 0.07,\n",
       " 'frontend->checkoutservice': 0.07}"
      ]
     },
     "execution_count": 16,
     "metadata": {},
     "output_type": "execute_result"
    }
   ],
   "source": [
    "# Sort Affinities\n",
    "sorted_service_affinities = service_affinities.copy()\n",
    "for key in service_affinities:\n",
    "    sorted_service_affinities[key] = dict(sorted(sorted_service_affinities[key].items(), key=operator.itemgetter(1),reverse=True))\n",
    "\n",
    "\n",
    "# Assemble all affinities in one matrix in decent order\n",
    "total_affinities = {}\n",
    "for source_key in sorted_service_affinities:\n",
    "    for destination_key in sorted_service_affinities[source_key]:\n",
    "        total_affinities[source_key+\"->\"+destination_key] = float(sorted_service_affinities[source_key][destination_key])\n",
    "total_affinities = dict(sorted(total_affinities.items(), key=operator.itemgetter(1),reverse=True))\n",
    "total_affinities"
   ]
  },
  {
   "cell_type": "code",
   "execution_count": 17,
   "metadata": {},
   "outputs": [],
   "source": [
    "def modify_pod_requests(resource_dict):\n",
    "    curr_dict = {}\n",
    "    for services in resource_dict.keys():\n",
    "        # Pattern: service_name-ID-SubID\n",
    "        split_string = re.split(\"-\", services)\n",
    "        if(len(split_string) == 3):\n",
    "            curr_service = split_string[0]\n",
    "        else:\n",
    "            curr_service = split_string[0] + '-'+ split_string[1]\n",
    "                \n",
    "        curr_dict[curr_service] = format(float(resource_dict[services]), '.3f')\n",
    "\n",
    "    return curr_dict"
   ]
  },
  {
   "cell_type": "code",
   "execution_count": 18,
   "metadata": {},
   "outputs": [],
   "source": [
    "def modify_pod_resources(resource_dict):\n",
    "    curr_dict = {}\n",
    "    for hosts in resource_dict:\n",
    "        for services in resource_dict[hosts]:\n",
    "            # Pattern: service_name-ID-SubID\n",
    "            split_string = re.split(\"-\", services)\n",
    "            if(len(split_string) == 3):\n",
    "                curr_service = split_string[0]\n",
    "            else:\n",
    "                curr_service = split_string[0] + '-'+ split_string[1]\n",
    "                \n",
    "            curr_dict[curr_service] = format(float(resource_dict[hosts][services]), '.3f')\n",
    "           \n",
    "    return curr_dict"
   ]
  },
  {
   "cell_type": "code",
   "execution_count": 19,
   "metadata": {},
   "outputs": [],
   "source": [
    "# Heuristic Based Affinity Planner\n",
    "# A modified First-Fit algorithm to produce a better service placement according to affinities and resources\n",
    "# Input: Sorted Affinities, Resource demands and VM available resources\n",
    "# Output: A new placement solution for current problem"
   ]
  },
  {
   "cell_type": "code",
   "execution_count": 20,
   "metadata": {},
   "outputs": [
    {
     "name": "stdout",
     "output_type": "stream",
     "text": [
      "----------INITIAL PLACEMENT------------\n",
      "{'gke-onlineboutique-default-pool-db17c72b-4hwg': ['shippingservice-b5879cdbf-5mlx7',\n",
      "                                                   'adservice-7cbc9bd9-fwqz7'],\n",
      " 'gke-onlineboutique-default-pool-db17c72b-jl1c': ['currencyservice-5898885559-q4xh8',\n",
      "                                                   'paymentservice-6c676df669-z7s4d',\n",
      "                                                   'checkoutservice-784bfc794f-qch75',\n",
      "                                                   'redis-cart-74594bd569-6lw6x'],\n",
      " 'gke-onlineboutique-default-pool-db17c72b-phxm': ['frontend-764c5c755f-6f52w',\n",
      "                                                   'recommendationservice-79f5f4bbf5-wqwff',\n",
      "                                                   'emailservice-6bd8b47657-ltptz',\n",
      "                                                   'loadgenerator-84cbcd768c-5ktn6'],\n",
      " 'gke-onlineboutique-default-pool-db17c72b-tds3': ['productcatalogservice-7fcf4f8cc-jf2jg',\n",
      "                                                   'cartservice-d7db78c66-27hmx']}\n",
      "NODE AVAILABLED CPU\n",
      "{'gke-onlineboutique-default-pool-db17c72b-4hwg': 1.037,\n",
      " 'gke-onlineboutique-default-pool-db17c72b-jl1c': 1.1989999999999998,\n",
      " 'gke-onlineboutique-default-pool-db17c72b-phxm': 0.587,\n",
      " 'gke-onlineboutique-default-pool-db17c72b-tds3': 1.099}\n",
      "NODE AVAILABLED RAM\n",
      "{'gke-onlineboutique-default-pool-db17c72b-4hwg': 5488762880.0,\n",
      " 'gke-onlineboutique-default-pool-db17c72b-jl1c': 5276942336.0,\n",
      " 'gke-onlineboutique-default-pool-db17c72b-phxm': 3129466880.0,\n",
      " 'gke-onlineboutique-default-pool-db17c72b-tds3': 5634514944.0}\n",
      "---------------------------------------\n",
      "\n",
      "------------FINAL PLACEMENT------------\n",
      "{'gke-onlineboutique-default-pool-db17c72b-4hwg': [],\n",
      " 'gke-onlineboutique-default-pool-db17c72b-jl1c': ['paymentservice-6c676df669-z7s4d',\n",
      "                                                   'redis-cart-74594bd569-6lw6x',\n",
      "                                                   'shippingservice-b5879cdbf-5mlx7',\n",
      "                                                   'emailservice-6bd8b47657-ltptz'],\n",
      " 'gke-onlineboutique-default-pool-db17c72b-phxm': ['frontend-764c5c755f-6f52w',\n",
      "                                                   'loadgenerator-84cbcd768c-5ktn6',\n",
      "                                                   'productcatalogservice-7fcf4f8cc-jf2jg',\n",
      "                                                   'currencyservice-5898885559-q4xh8',\n",
      "                                                   'cartservice-d7db78c66-27hmx',\n",
      "                                                   'adservice-7cbc9bd9-fwqz7'],\n",
      " 'gke-onlineboutique-default-pool-db17c72b-tds3': ['recommendationservice-79f5f4bbf5-wqwff',\n",
      "                                                   'checkoutservice-784bfc794f-qch75']}\n",
      "NODE AVAILABLED CPU\n",
      "{'gke-onlineboutique-default-pool-db17c72b-4hwg': 1.357,\n",
      " 'gke-onlineboutique-default-pool-db17c72b-jl1c': 1.1989999999999998,\n",
      " 'gke-onlineboutique-default-pool-db17c72b-phxm': 0.16700000000000004,\n",
      " 'gke-onlineboutique-default-pool-db17c72b-tds3': 1.1989999999999998}\n",
      "NODE AVAILABLED RAM\n",
      "{'gke-onlineboutique-default-pool-db17c72b-4hwg': 5828501504.0,\n",
      " 'gke-onlineboutique-default-pool-db17c72b-jl1c': 5276942336.0,\n",
      " 'gke-onlineboutique-default-pool-db17c72b-phxm': 2953306112.0,\n",
      " 'gke-onlineboutique-default-pool-db17c72b-tds3': 5470937088.0}\n"
     ]
    }
   ],
   "source": [
    "moved_services = [] # List to store which services have been moved (source-destination services)\n",
    "final_pod_cpu = modify_pod_requests(pod_request_cpu)\n",
    "final_pod_ram = modify_pod_requests(pod_request_ram)\n",
    "final_placement = copy.deepcopy(initial_placement)\n",
    "\n",
    "final_node_available_cpu = {}\n",
    "final_node_available_ram = {}\n",
    "for host in host_list:\n",
    "    final_node_available_cpu[host] = float(node_allocated_cpu[host]) - float(node_request_cpu[host])\n",
    "    final_node_available_ram[host] = float(node_allocated_ram[host]) - float(node_request_ram[host])\n",
    "\n",
    "print(\"----------INITIAL PLACEMENT------------\")\n",
    "pprint.pprint(final_placement)\n",
    "print(\"NODE AVAILABLED CPU\")\n",
    "pprint.pprint(final_node_available_cpu)\n",
    "print(\"NODE AVAILABLED RAM\")\n",
    "pprint.pprint(final_node_available_ram)\n",
    "print(\"---------------------------------------\")\n",
    "\n",
    "for key in total_affinities:\n",
    "   \n",
    "    #Partition dictionary\n",
    "    partition_key = key.partition('->')\n",
    "    source_service = partition_key[0]\n",
    "    dest_service = partition_key[2]\n",
    "    \n",
    "    # Initialize variables\n",
    "    source_host = \"\"\n",
    "    dest_host = \"\"\n",
    "    available_node_source_cpu = 0.0\n",
    "    available_node_source_ram = 0.0\n",
    "    available_node_dest_cpu = 0.0\n",
    "    available_node_dest_ram = 0.0\n",
    "    source_cpu = 0.0\n",
    "    source_ram = 0.0\n",
    "    dest_cpu = 0.0\n",
    "    dest_ram = 0.0\n",
    "    \n",
    "    #Find resources\n",
    "    for host in host_list:\n",
    "        for service in pod_usage_cpu[host]:\n",
    "            # Pattern: service_name-ID-SubID\n",
    "            split_string = re.split(\"-\", service)\n",
    "            if(len(split_string) == 3):\n",
    "                curr_service = split_string[0]\n",
    "            else:\n",
    "                curr_service = split_string[0] + '-'+ split_string[1]\n",
    "            \n",
    "            #Gather Resources of Source Service\n",
    "            if source_service == curr_service:\n",
    "                source_cpu = float(final_pod_cpu[curr_service])\n",
    "                source_ram = float(final_pod_ram[curr_service])\n",
    "                available_node_source_cpu = float(final_node_available_cpu[host])\n",
    "                available_node_source_ram = float(final_node_available_ram[host])\n",
    "                source_host = host\n",
    "                source_pod = service\n",
    "                \n",
    "            #Gather Resources of Destination Service\n",
    "            if dest_service == curr_service:\n",
    "                dest_cpu = float(final_pod_cpu[curr_service])\n",
    "                dest_ram = float(final_pod_ram[curr_service])\n",
    "                available_node_dest_cpu = float(final_node_available_cpu[host])\n",
    "                available_node_dest_ram = float(final_node_available_ram[host])\n",
    "                dest_host = host\n",
    "                dest_pod = service\n",
    "    \n",
    "\n",
    "    # Check for same host\n",
    "    if dest_host == source_host:\n",
    "        continue # Proceed to next iteration\n",
    "    else:\n",
    "        moved_Flag = False\n",
    "        # Check if destination service has already moved\n",
    "        if dest_service not in moved_services:\n",
    "            if((dest_cpu < available_node_source_cpu) and (dest_ram < available_node_source_ram)):\n",
    "                # CPU resources update\n",
    "                final_node_available_cpu[source_host] = float(final_node_available_cpu[source_host]) - dest_cpu\n",
    "                final_node_available_cpu[dest_host] = float(final_node_available_cpu[dest_host]) + dest_cpu\n",
    "\n",
    "                # RAM resources update\n",
    "                final_node_available_ram[source_host] = float(final_node_available_ram[source_host]) - dest_ram\n",
    "                final_node_available_ram[dest_host] = float(final_node_available_ram[dest_host]) + dest_ram\n",
    "\n",
    "                # Host services transfer and update\n",
    "                final_placement[dest_host].remove(dest_pod)\n",
    "                final_placement[source_host].append(dest_pod)\n",
    "                moved_Flag = True    \n",
    "        # Check if source service has already moved\n",
    "        elif source_service not in moved_services:\n",
    "            if((source_cpu < available_node_dest_cpu) and (source_ram < available_node_dest_ram)):\n",
    "                final_node_available_cpu[source_host] = float(final_node_available_cpu[source_host]) + source_cpu\n",
    "                final_node_available_cpu[dest_host] = float(final_node_available_cpu[dest_host]) - source_cpu\n",
    "\n",
    "                # RAM resources update\n",
    "                final_node_available_ram[source_host] = float(final_node_available_ram[source_host]) + source_ram\n",
    "                final_node_available_ram[dest_host] = float(final_node_available_ram[dest_host]) - source_ram\n",
    "\n",
    "                # Host services transfer and update\n",
    "                final_placement[source_host].remove(source_pod)\n",
    "                final_placement[dest_host].append(source_pod)\n",
    "                moved_Flag = True\n",
    "            \n",
    "    # If services \"moved\" then append them to list and continue\n",
    "    if moved_Flag:\n",
    "        moved_services.append(dest_service)\n",
    "        moved_services.append(source_service)\n",
    "\n",
    "print(\"\")\n",
    "print(\"------------FINAL PLACEMENT------------\")\n",
    "pprint.pprint(final_placement)\n",
    "print(\"NODE AVAILABLED CPU\")\n",
    "pprint.pprint(final_node_available_cpu)\n",
    "print(\"NODE AVAILABLED RAM\")\n",
    "pprint.pprint(final_node_available_ram)"
   ]
  },
  {
   "cell_type": "code",
   "execution_count": null,
   "metadata": {},
   "outputs": [],
   "source": []
  }
 ],
 "metadata": {
  "kernelspec": {
   "display_name": "Python 3",
   "language": "python",
   "name": "python3"
  },
  "language_info": {
   "codemirror_mode": {
    "name": "ipython",
    "version": 3
   },
   "file_extension": ".py",
   "mimetype": "text/x-python",
   "name": "python",
   "nbconvert_exporter": "python",
   "pygments_lexer": "ipython3",
   "version": "3.7.9"
  },
  "toc-autonumbering": true,
  "toc-showcode": true,
  "toc-showmarkdowntxt": true
 },
 "nbformat": 4,
 "nbformat_minor": 4
}
