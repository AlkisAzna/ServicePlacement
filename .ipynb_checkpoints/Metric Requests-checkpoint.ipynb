{
 "cells": [
  {
   "cell_type": "code",
   "execution_count": 1,
   "metadata": {},
   "outputs": [],
   "source": [
    "import pandas as pd\n",
    "import numpy as np\n",
    "import warnings\n",
    "import json\n",
    "import re\n",
    "import requests\n",
    "import pprint\n",
    "import operator\n",
    "import random\n",
    "\n",
    "warnings.filterwarnings('ignore')\n",
    "pd.set_option('display.max_columns', None)"
   ]
  },
  {
   "cell_type": "code",
   "execution_count": 2,
   "metadata": {},
   "outputs": [],
   "source": [
    "# General Info of Placement\n",
    "vm_external_ip = \"34.141.63.138\" #External ip for host machine to fetch the data\n",
    "kiali_port = 32002\n",
    "prometheus_port = 32003\n",
    "\n",
    "namespace = \"default\" # the namespace of the app \n",
    "\n",
    "cluster_id = \"onlineboutique\" # Cluster name\n",
    "\n",
    "cluster_pool = \"default-pool\" # Node pool\n",
    "\n",
    "project_id = \"single-verve-297917\" # Project-ID\n",
    "\n",
    "zone = \"europe-west3-b\" # Project-zone\n",
    "\n",
    "vm_threshold_per_pod = 0.1 # Threshold for reserving sufficient resources for each pod\n",
    "\n",
    "# Connect to cluster command\n",
    "connection_command = \"gcloud container clusters get-credentials onlineboutique --zone europe-west3-b --project single-verve-297917\""
   ]
  },
  {
   "cell_type": "code",
   "execution_count": 3,
   "metadata": {},
   "outputs": [
    {
     "data": {
      "text/plain": [
       "{'status': 'success',\n",
       " 'data': {'resultType': 'vector',\n",
       "  'result': [{'metric': {'node': 'gke-onlineboutique-default-pool-db17c72b-mlrj'},\n",
       "    'value': [1625393748.91, '951058432']},\n",
       "   {'metric': {'node': 'gke-onlineboutique-default-pool-db17c72b-lkgl'},\n",
       "    'value': [1625393748.91, '1067450368']},\n",
       "   {'metric': {'node': 'gke-onlineboutique-default-pool-db17c72b-m0tj'},\n",
       "    'value': [1625393748.91, '3015704576']},\n",
       "   {'metric': {'node': 'gke-onlineboutique-default-pool-db17c72b-wcj3'},\n",
       "    'value': [1625393748.91, '796917760']}]}}"
      ]
     },
     "execution_count": 3,
     "metadata": {},
     "output_type": "execute_result"
    }
   ],
   "source": [
    "# Url from prometheus\n",
    "url_prometheus = \"http://\"+vm_external_ip+\":\"+str(prometheus_port)+\"/api/v1/query\"\n",
    "\n",
    "app_request = {\"query\":\"sum(kube_pod_container_resource_requests_memory_bytes) by (node)\"}\n",
    "\n",
    "# Headers of cURL command\n",
    "headers_prometheus = {\n",
    "    'cache-control': \"no-cache\"\n",
    "}\n",
    "\n",
    "# cURL command for Node Ram Usage\n",
    "response = requests.request(\"GET\", url_prometheus, headers=headers_prometheus, params=app_request)\n",
    "response_status = response.status_code\n",
    "result=json.loads(response.text)\n",
    "result"
   ]
  },
  {
   "cell_type": "code",
   "execution_count": 4,
   "metadata": {},
   "outputs": [
    {
     "data": {
      "text/plain": [
       "{'gke-onlineboutique-default-pool-db17c72b-mlrj': '951058432',\n",
       " 'gke-onlineboutique-default-pool-db17c72b-lkgl': '1067450368',\n",
       " 'gke-onlineboutique-default-pool-db17c72b-m0tj': '3015704576',\n",
       " 'gke-onlineboutique-default-pool-db17c72b-wcj3': '796917760'}"
      ]
     },
     "execution_count": 4,
     "metadata": {},
     "output_type": "execute_result"
    }
   ],
   "source": [
    "node_request_ram = {}\n",
    "for x in result['data']['result']:\n",
    "    node_request_ram[x['metric']['node']] = x['value'][1]\n",
    "node_request_ram"
   ]
  },
  {
   "cell_type": "code",
   "execution_count": 5,
   "metadata": {},
   "outputs": [
    {
     "data": {
      "text/plain": [
       "{'gke-onlineboutique-default-pool-db17c72b-wcj3': '0.8829999999999999',\n",
       " 'gke-onlineboutique-default-pool-db17c72b-mlrj': '0.761',\n",
       " 'gke-onlineboutique-default-pool-db17c72b-lkgl': '0.861',\n",
       " 'gke-onlineboutique-default-pool-db17c72b-m0tj': '1.2930000000000004'}"
      ]
     },
     "execution_count": 5,
     "metadata": {},
     "output_type": "execute_result"
    }
   ],
   "source": [
    "app_request = {\"query\":\"sum(kube_pod_container_resource_requests_cpu_cores) by (node)\"}\n",
    "\n",
    "# cURL command for Node Ram Usage\n",
    "response = requests.request(\"GET\", url_prometheus, headers=headers_prometheus, params=app_request)\n",
    "response_status = response.status_code\n",
    "result=json.loads(response.text)\n",
    "\n",
    "node_request_cpu = {}\n",
    "for x in result['data']['result']:\n",
    "    node_request_cpu[x['metric']['node']] = x['value'][1]\n",
    "node_request_cpu"
   ]
  },
  {
   "cell_type": "code",
   "execution_count": 6,
   "metadata": {},
   "outputs": [
    {
     "data": {
      "text/plain": [
       "{'productcatalogservice-7fcf4f8cc-4jrsf': '0.11',\n",
       " 'adservice-7cbc9bd9-6fksb': '0.21000000000000002',\n",
       " 'paymentservice-6c676df669-2cg9n': '0.11',\n",
       " 'checkoutservice-784bfc794f-hz6c6': '0.11',\n",
       " 'recommendationservice-79f5f4bbf5-svhvp': '0.11',\n",
       " 'shippingservice-b5879cdbf-qgp5g': '0.11',\n",
       " 'currencyservice-5898885559-qbcwf': '0.11',\n",
       " 'emailservice-6bd8b47657-5g9qs': '0.11',\n",
       " 'cartservice-d7db78c66-jtpq8': '0.21000000000000002',\n",
       " 'redis-cart-74594bd569-llffp': '0.08',\n",
       " 'frontend-764c5c755f-blwjm': '0.11',\n",
       " 'loadgenerator-84cbcd768c-s25cs': '0.31'}"
      ]
     },
     "execution_count": 6,
     "metadata": {},
     "output_type": "execute_result"
    }
   ],
   "source": [
    "app_request = {\"query\":\"sum(kube_pod_container_resource_requests_cpu_cores{namespace='default'}) by (pod)\"}\n",
    "\n",
    "# cURL command for Node Ram Usage\n",
    "response = requests.request(\"GET\", url_prometheus, headers=headers_prometheus, params=app_request)\n",
    "response_status = response.status_code\n",
    "result=json.loads(response.text)\n",
    "\n",
    "pod_request_cpu = {}\n",
    "for x in result['data']['result']:\n",
    "    pod_request_cpu[x['metric']['pod']] = x['value'][1]\n",
    "pod_request_cpu"
   ]
  },
  {
   "cell_type": "code",
   "execution_count": 7,
   "metadata": {},
   "outputs": [
    {
     "data": {
      "text/plain": [
       "{'adservice-7cbc9bd9-6fksb': '230686720',\n",
       " 'paymentservice-6c676df669-2cg9n': '109051904',\n",
       " 'recommendationservice-79f5f4bbf5-svhvp': '272629760',\n",
       " 'currencyservice-5898885559-qbcwf': '109051904',\n",
       " 'productcatalogservice-7fcf4f8cc-4jrsf': '109051904',\n",
       " 'redis-cart-74594bd569-llffp': '251658240',\n",
       " 'loadgenerator-84cbcd768c-s25cs': '310378496',\n",
       " 'emailservice-6bd8b47657-5g9qs': '109051904',\n",
       " 'checkoutservice-784bfc794f-hz6c6': '109051904',\n",
       " 'shippingservice-b5879cdbf-qgp5g': '109051904',\n",
       " 'cartservice-d7db78c66-jtpq8': '109051904',\n",
       " 'frontend-764c5c755f-blwjm': '109051904'}"
      ]
     },
     "execution_count": 7,
     "metadata": {},
     "output_type": "execute_result"
    }
   ],
   "source": [
    "app_request = {\"query\":\"sum(kube_pod_container_resource_requests_memory_bytes{namespace='default'}) by (pod)\"}\n",
    "\n",
    "# cURL command for Node Ram Usage\n",
    "response = requests.request(\"GET\", url_prometheus, headers=headers_prometheus, params=app_request)\n",
    "response_status = response.status_code\n",
    "result=json.loads(response.text)\n",
    "\n",
    "pod_request_ram = {}\n",
    "for x in result['data']['result']:\n",
    "    pod_request_ram[x['metric']['pod']] = x['value'][1]\n",
    "pod_request_ram"
   ]
  },
  {
   "cell_type": "code",
   "execution_count": 8,
   "metadata": {},
   "outputs": [
    {
     "data": {
      "text/plain": [
       "{'gke-onlineboutique-default-pool-db17c72b-lkgl': '6340206592',\n",
       " 'gke-onlineboutique-default-pool-db17c72b-m0tj': '6340206592',\n",
       " 'gke-onlineboutique-default-pool-db17c72b-mlrj': '6340198400',\n",
       " 'gke-onlineboutique-default-pool-db17c72b-wcj3': '6340206592'}"
      ]
     },
     "execution_count": 8,
     "metadata": {},
     "output_type": "execute_result"
    }
   ],
   "source": [
    "app_request = {\"query\":\"kube_node_status_allocatable{resource='memory'}\"}\n",
    "\n",
    "# cURL command for Node Ram Usage\n",
    "response = requests.request(\"GET\", url_prometheus, headers=headers_prometheus, params=app_request)\n",
    "response_status = response.status_code\n",
    "result=json.loads(response.text)\n",
    "\n",
    "node_allocated_ram = {}\n",
    "for x in result['data']['result']:\n",
    "    node_allocated_ram[x['metric']['node']] = x['value'][1]\n",
    "node_allocated_ram"
   ]
  },
  {
   "cell_type": "code",
   "execution_count": 9,
   "metadata": {},
   "outputs": [
    {
     "data": {
      "text/plain": [
       "{'gke-onlineboutique-default-pool-db17c72b-lkgl': '1.93',\n",
       " 'gke-onlineboutique-default-pool-db17c72b-m0tj': '1.93',\n",
       " 'gke-onlineboutique-default-pool-db17c72b-mlrj': '1.93',\n",
       " 'gke-onlineboutique-default-pool-db17c72b-wcj3': '1.93'}"
      ]
     },
     "execution_count": 9,
     "metadata": {},
     "output_type": "execute_result"
    }
   ],
   "source": [
    "app_request = {\"query\":\"kube_node_status_allocatable{resource='cpu'}\"}\n",
    "\n",
    "# cURL command for Node Ram Usage\n",
    "response = requests.request(\"GET\", url_prometheus, headers=headers_prometheus, params=app_request)\n",
    "response_status = response.status_code\n",
    "result=json.loads(response.text)\n",
    "\n",
    "node_allocated_cpu = {}\n",
    "for x in result['data']['result']:\n",
    "    node_allocated_cpu[x['metric']['node']] = x['value'][1]\n",
    "node_allocated_cpu"
   ]
  },
  {
   "cell_type": "code",
   "execution_count": 16,
   "metadata": {},
   "outputs": [
    {
     "data": {
      "text/plain": [
       "{'frontend': {'adservice': 5429210,\n",
       "  'cartservice': 8733440,\n",
       "  'checkoutservice': 444310,\n",
       "  'currencyservice': 27668190,\n",
       "  'productcatalogservice': 44346740,\n",
       "  'recommendationservice': 7358850,\n",
       "  'shippingservice': 2049130},\n",
       " 'checkoutservice': {'cartservice': 843340,\n",
       "  'currencyservice': 1228620,\n",
       "  'emailservice': 547950,\n",
       "  'paymentservice': 428410,\n",
       "  'productcatalogservice': 1002770,\n",
       "  'shippingservice': 930600},\n",
       " 'loadgenerator': {'frontend': 7795590},\n",
       " 'recommendationservice': {'productcatalogservice': 7230860}}"
      ]
     },
     "execution_count": 16,
     "metadata": {},
     "output_type": "execute_result"
    }
   ],
   "source": [
    "app_request = {\"query\":\"istio_request_bytes_sum{response_code = '\"+str(200)+\"', connection_security_policy = 'mutual_tls', source_app != 'unknown',  destination_app != 'unknown'}\"}\n",
    "response_query =  {\"query\": \"istio_response_bytes_sum{response_code = '\" + str(200) + \"', connection_security_policy = 'mutual_tls', source_app != 'unknown',  destination_app != 'unknown'}\"}\n",
    "# cURL command for Request Metrics\n",
    "response = requests.request(\"GET\", url_prometheus, headers=headers_prometheus, params=app_request)\n",
    "response_status = response.status_code\n",
    "result=json.loads(response.text)\n",
    "response = requests.request(\"GET\", url_prometheus, headers=headers_prometheus, params=app_request)\n",
    "result_2=json.loads(response.text)\n",
    "# pprint.pprint(result)\n",
    "\n",
    "total_queries = len(result['data']['result'])\n",
    "total_request_bytes = {}\n",
    "\n",
    "# Iterate throught Results\n",
    "for x in range(total_queries):\n",
    "    source_app = result['data']['result'][x]['metric']['source_app']\n",
    "    if source_app not in total_request_bytes:\n",
    "        total_request_bytes[source_app] = {}\n",
    "    dest_app = result['data']['result'][x]['metric']['destination_app']\n",
    "    total_request_bytes[source_app][dest_app] = int(result['data']['result'][x]['value'][1]) + int(result_2['data']['result'][x]['value'][1])\n",
    "total_request_bytes"
   ]
  },
  {
   "cell_type": "code",
   "execution_count": 18,
   "metadata": {},
   "outputs": [
    {
     "ename": "NameError",
     "evalue": "name 'self' is not defined",
     "output_type": "error",
     "traceback": [
      "\u001b[0;31m---------------------------------------------------------------------------\u001b[0m",
      "\u001b[0;31mNameError\u001b[0m                                 Traceback (most recent call last)",
      "\u001b[0;32m<ipython-input-18-77f4e0165765>\u001b[0m in \u001b[0;36m<module>\u001b[0;34m\u001b[0m\n\u001b[1;32m      1\u001b[0m \u001b[0;31m# Sort Affinities\u001b[0m\u001b[0;34m\u001b[0m\u001b[0;34m\u001b[0m\u001b[0;34m\u001b[0m\u001b[0m\n\u001b[1;32m      2\u001b[0m \u001b[0msorted_service_affinities\u001b[0m \u001b[0;34m=\u001b[0m \u001b[0mtotal_request_bytes\u001b[0m\u001b[0;34m.\u001b[0m\u001b[0mcopy\u001b[0m\u001b[0;34m(\u001b[0m\u001b[0;34m)\u001b[0m\u001b[0;34m\u001b[0m\u001b[0;34m\u001b[0m\u001b[0m\n\u001b[0;32m----> 3\u001b[0;31m \u001b[0;32mfor\u001b[0m \u001b[0mkey\u001b[0m \u001b[0;32min\u001b[0m \u001b[0mself\u001b[0m\u001b[0;34m.\u001b[0m\u001b[0mservice_affinities\u001b[0m\u001b[0;34m:\u001b[0m\u001b[0;34m\u001b[0m\u001b[0;34m\u001b[0m\u001b[0m\n\u001b[0m\u001b[1;32m      4\u001b[0m     \u001b[0msorted_service_affinities\u001b[0m\u001b[0;34m[\u001b[0m\u001b[0mkey\u001b[0m\u001b[0;34m]\u001b[0m \u001b[0;34m=\u001b[0m \u001b[0mdict\u001b[0m\u001b[0;34m(\u001b[0m\u001b[0msorted\u001b[0m\u001b[0;34m(\u001b[0m\u001b[0msorted_service_affinities\u001b[0m\u001b[0;34m[\u001b[0m\u001b[0mkey\u001b[0m\u001b[0;34m]\u001b[0m\u001b[0;34m.\u001b[0m\u001b[0mitems\u001b[0m\u001b[0;34m(\u001b[0m\u001b[0;34m)\u001b[0m\u001b[0;34m,\u001b[0m \u001b[0mkey\u001b[0m\u001b[0;34m=\u001b[0m\u001b[0moperator\u001b[0m\u001b[0;34m.\u001b[0m\u001b[0mitemgetter\u001b[0m\u001b[0;34m(\u001b[0m\u001b[0;36m1\u001b[0m\u001b[0;34m)\u001b[0m\u001b[0;34m,\u001b[0m \u001b[0mreverse\u001b[0m\u001b[0;34m=\u001b[0m\u001b[0;32mTrue\u001b[0m\u001b[0;34m)\u001b[0m\u001b[0;34m)\u001b[0m\u001b[0;34m\u001b[0m\u001b[0;34m\u001b[0m\u001b[0m\n\u001b[1;32m      5\u001b[0m \u001b[0mpprint\u001b[0m\u001b[0;34m.\u001b[0m\u001b[0mpprint\u001b[0m\u001b[0;34m(\u001b[0m\u001b[0msorted_service_affinities\u001b[0m\u001b[0;34m)\u001b[0m\u001b[0;34m\u001b[0m\u001b[0;34m\u001b[0m\u001b[0m\n",
      "\u001b[0;31mNameError\u001b[0m: name 'self' is not defined"
     ]
    }
   ],
   "source": [
    "# Sort Affinities\n",
    "sorted_service_affinities = total_request_bytes.copy()\n",
    "for key in total_request_bytes:\n",
    "    sorted_service_affinities[key] = dict(sorted(sorted_service_affinities[key].items(), key=operator.itemgetter(1), reverse=True))\n",
    "pprint.pprint(sorted_service_affinities)\n",
    "\n",
    "# Assemble all affinities in one matrix in decent order\n",
    "affinities_collection = {}\n",
    "for source_key in sorted_service_affinities:\n",
    "    for destination_key in sorted_service_affinities[source_key]:\n",
    "        affinities_collection[source_key + \"->\" + destination_key] = float(sorted_service_affinities[source_key][destination_key])\n",
    "        affinities_collection = dict(sorted(affinities_collection.items(), key=operator.itemgetter(1), reverse=True))\n",
    "    affinities_collection"
   ]
  },
  {
   "cell_type": "code",
   "execution_count": null,
   "metadata": {},
   "outputs": [],
   "source": [
    "a = {\"1\": 2, \"2\": 3}\n",
    "b = {\"1\": 2, \"2\": 3}\n",
    "c = a.values() + b.values()"
   ]
  },
  {
   "cell_type": "code",
   "execution_count": null,
   "metadata": {},
   "outputs": [],
   "source": []
  }
 ],
 "metadata": {
  "kernelspec": {
   "display_name": "Python 3",
   "language": "python",
   "name": "python3"
  },
  "language_info": {
   "codemirror_mode": {
    "name": "ipython",
    "version": 3
   },
   "file_extension": ".py",
   "mimetype": "text/x-python",
   "name": "python",
   "nbconvert_exporter": "python",
   "pygments_lexer": "ipython3",
   "version": "3.7.9"
  }
 },
 "nbformat": 4,
 "nbformat_minor": 4
}
