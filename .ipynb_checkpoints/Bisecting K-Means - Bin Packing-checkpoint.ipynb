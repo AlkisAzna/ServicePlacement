{
 "cells": [
  {
   "cell_type": "code",
   "execution_count": 1,
   "metadata": {},
   "outputs": [],
   "source": [
    "# Optimizing Service Placement for MicroserviceArchitecture in Clouds - Paper\n",
    "\n",
    "import pandas as pd\n",
    "import numpy as np\n",
    "import warnings\n",
    "import json\n",
    "import re\n",
    "import requests\n",
    "import pprint\n",
    "import operator\n",
    "import random\n",
    "import copy\n",
    "\n",
    "warnings.filterwarnings('ignore')\n",
    "pd.set_option('display.max_columns', None)"
   ]
  },
  {
   "cell_type": "code",
   "execution_count": 2,
   "metadata": {},
   "outputs": [],
   "source": [
    "service_affinities = {'checkoutservice': {'cartservice': '0.01',\n",
    "  'shippingservice': '0.01',\n",
    "  'emailservice': '0.007',\n",
    "  'paymentservice': '0.007',\n",
    "  'currencyservice': '0.02',\n",
    "  'productcatalogservice': '0.01'},\n",
    " 'recommendationservice': {'productcatalogservice': '0.13'},\n",
    " 'frontend': {'adservice': '0.11',\n",
    "  'cartservice': '0.17',\n",
    "  'checkoutservice': '0.007',\n",
    "  'recommendationservice': '0.13',\n",
    "  'shippingservice': '0.03',\n",
    "  'currencyservice': '0.48',\n",
    "  'productcatalogservice': '0.81'},\n",
    " 'loadgenerator': {'frontend': '0.18'}}"
   ]
  },
  {
   "cell_type": "code",
   "execution_count": 2,
   "metadata": {},
   "outputs": [],
   "source": [
    "# General Info of Placement\n",
    "vm_external_ip = \"34.107.112.188\" #External ip for host machine to fetch the data\n",
    "kiali_port = 32002\n",
    "prometheus_port = 32003\n",
    "\n",
    "namespace = \"default\" # the namespace of the app \n",
    "\n",
    "cluster_id = \"onlineboutique\" # Cluster name\n",
    "\n",
    "cluster_pool = \"default-pool\" # Node pool\n",
    "\n",
    "project_id = \"single-verve-297917\" # Project-ID\n",
    "\n",
    "zone = \"europe-west3-b\" # Project-zone\n",
    "\n",
    "vm_threshold_per_pod = 0.1 # Threshold for reserving sufficient resources for each pod\n",
    "\n",
    "# Connect to cluster command\n",
    "connection_command = \"gcloud container clusters get-credentials onlineboutique --zone europe-west3-b --project single-verve-297917\""
   ]
  },
  {
   "cell_type": "code",
   "execution_count": 3,
   "metadata": {},
   "outputs": [
    {
     "name": "stdout",
     "output_type": "stream",
     "text": [
      "Number of hosts : 4\n"
     ]
    },
    {
     "data": {
      "text/plain": [
       "{'gke-onlineboutique-default-pool-db17c72b-hhcf': '6968823808.0',\n",
       " 'gke-onlineboutique-default-pool-db17c72b-3zkj': '7717756928.0',\n",
       " 'gke-onlineboutique-default-pool-db17c72b-43k0': '7325704192.0',\n",
       " 'gke-onlineboutique-default-pool-db17c72b-b5xh': '6711144448.0'}"
      ]
     },
     "execution_count": 3,
     "metadata": {},
     "output_type": "execute_result"
    }
   ],
   "source": [
    "# Information metrics from prometheus about current nodes and pods\n",
    "\n",
    "# Url from prometheus\n",
    "url_prometheus = \"http://\"+vm_external_ip+\":\"+str(prometheus_port)+\"/api/v1/query\"\n",
    "\n",
    "# RAM USAGE PERCENT\n",
    "# (1 - (node_memory_MemAvailable_bytes / (node_memory_MemTotal_bytes)))* 100\n",
    "# # CPU USAGE PERCENT\n",
    "# (1 - avg(rate(node_cpu_seconds_total{mode=\"idle\"}[30m])) by (instance)) * 100\n",
    "\n",
    "# #PODS CPU USAGE PERCENT (EXCEPT NODE-EXPORTERS)\n",
    "# avg(rate(container_cpu_usage_seconds_total{pod!~\"billowing.*\", namespace='default'}[30m])) by (pod) *100\n",
    "\n",
    "# #PODS MEMORY USAGE (EXCEPT NODE-EXPORTERS)\n",
    "# avg(container_memory_max_usage_bytes{namespace=\"default\", pod!~\"billowing.*\"}) by(pod)\n",
    "\n",
    "# Queries for useful information of Prometheus\n",
    "query_node_cpu = {\"query\":\"avg(rate(node_cpu_seconds_total{mode='idle'}[30m])) by (instance)\"}\n",
    "query_node_ram = {\"query\":\"node_memory_MemAvailable_bytes\"}\n",
    "\n",
    "# Headers of cURL command\n",
    "headers_prometheus = {\n",
    "    'cache-control': \"no-cache\"\n",
    "}\n",
    "\n",
    "# cURL command for Node Ram Usage\n",
    "response = requests.request(\"GET\", url_prometheus, headers=headers_prometheus, params=query_node_ram)\n",
    "response_status = response.status_code\n",
    "result=json.loads(response.text)\n",
    "\n",
    "number_of_hosts = len(result[\"data\"][\"result\"])\n",
    "host_machines = []\n",
    "node_available_ram = {}\n",
    "\n",
    "for i in range(number_of_hosts):\n",
    "    host_machines.append(result[\"data\"][\"result\"][i][\"metric\"][\"kubernetes_node\"])\n",
    "    node_available_ram[host_machines[i]] = format(float(result[\"data\"][\"result\"][i][\"value\"][1]), '.1f')"
   ]
  },
  {
   "cell_type": "code",
   "execution_count": 4,
   "metadata": {},
   "outputs": [
    {
     "data": {
      "text/plain": [
       "{'gke-onlineboutique-default-pool-db17c72b-hhcf': '0.8016',\n",
       " 'gke-onlineboutique-default-pool-db17c72b-3zkj': '0.9607',\n",
       " 'gke-onlineboutique-default-pool-db17c72b-43k0': '0.8927',\n",
       " 'gke-onlineboutique-default-pool-db17c72b-b5xh': '0.8498'}"
      ]
     },
     "execution_count": 4,
     "metadata": {},
     "output_type": "execute_result"
    }
   ],
   "source": [
    "# cURL command for Node Available CPU\n",
    "response = requests.request(\"GET\", url_prometheus, headers=headers_prometheus, params=query_node_cpu)\n",
    "response_status = response.status_code\n",
    "result=json.loads(response.text)\n",
    "\n",
    "node_available_cpu = {}\n",
    "for i in range(number_of_hosts):\n",
    "     node_available_cpu[host_machines[i]] = format(float(result[\"data\"][\"result\"][i][\"value\"][1]), '.4f')"
   ]
  },
  {
   "cell_type": "code",
   "execution_count": 5,
   "metadata": {},
   "outputs": [
    {
     "data": {
      "text/plain": [
       "{'gke-onlineboutique-default-pool-db17c72b-hhcf': '1.2190000000000003',\n",
       " 'gke-onlineboutique-default-pool-db17c72b-43k0': '1.2830000000000004',\n",
       " 'gke-onlineboutique-default-pool-db17c72b-b5xh': '1.093',\n",
       " 'gke-onlineboutique-default-pool-db17c72b-3zkj': '0.203'}"
      ]
     },
     "execution_count": 5,
     "metadata": {},
     "output_type": "execute_result"
    }
   ],
   "source": [
    "app_request = {\"query\":\"sum(kube_pod_container_resource_requests_cpu_cores) by (node)\"}\n",
    "\n",
    "# cURL command for Node Ram Usage\n",
    "response = requests.request(\"GET\", url_prometheus, headers=headers_prometheus, params=app_request)\n",
    "response_status = response.status_code\n",
    "result=json.loads(response.text)\n",
    "\n",
    "node_request_cpu = {}\n",
    "for x in result['data']['result']:\n",
    "    node_request_cpu[x['metric']['node']] = x['value'][1]"
   ]
  },
  {
   "cell_type": "code",
   "execution_count": 6,
   "metadata": {},
   "outputs": [
    {
     "data": {
      "text/plain": [
       "{'gke-onlineboutique-default-pool-db17c72b-hhcf': '1462763520',\n",
       " 'gke-onlineboutique-default-pool-db17c72b-43k0': '3040870400',\n",
       " 'gke-onlineboutique-default-pool-db17c72b-b5xh': '1065353216',\n",
       " 'gke-onlineboutique-default-pool-db17c72b-3zkj': '262144000'}"
      ]
     },
     "execution_count": 6,
     "metadata": {},
     "output_type": "execute_result"
    }
   ],
   "source": [
    "app_request = {\"query\":\"sum(kube_pod_container_resource_requests_memory_bytes) by (node)\"}\n",
    "\n",
    "# cURL command for Node Ram Usage\n",
    "response = requests.request(\"GET\", url_prometheus, headers=headers_prometheus, params=app_request)\n",
    "response_status = response.status_code\n",
    "result=json.loads(response.text)\n",
    "\n",
    "node_request_ram = {}\n",
    "for x in result['data']['result']:\n",
    "    node_request_ram[x['metric']['node']] = x['value'][1]"
   ]
  },
  {
   "cell_type": "code",
   "execution_count": 7,
   "metadata": {},
   "outputs": [
    {
     "data": {
      "text/plain": [
       "{'frontend-7dbdc9dfd4-qhk6t': '109051904',\n",
       " 'loadgenerator-b8dc894c-frbnw': '310378496',\n",
       " 'productcatalogservice-6d7b46ddff-tcsr7': '109051904',\n",
       " 'recommendationservice-649c7c6489-972gs': '272629760',\n",
       " 'cartservice-6db5d7d7b9-zt6cx': '109051904',\n",
       " 'emailservice-8644d6ccb-9b8nq': '109051904',\n",
       " 'currencyservice-67bf686f79-pdtfm': '109051904',\n",
       " 'checkoutservice-5b6ff7f7cc-84svg': '109051904',\n",
       " 'paymentservice-6fb9444648-hz974': '109051904',\n",
       " 'redis-cart-76df75dcdb-pjzv6': '251658240',\n",
       " 'adservice-5bd68ffb6f-w7d28': '230686720',\n",
       " 'shippingservice-6f799dd47c-pg24z': '109051904'}"
      ]
     },
     "execution_count": 7,
     "metadata": {},
     "output_type": "execute_result"
    }
   ],
   "source": [
    "app_request = {\"query\":\"sum(kube_pod_container_resource_requests_memory_bytes{namespace='default'}) by (pod)\"}\n",
    "\n",
    "# cURL command for Node Ram Usage\n",
    "response = requests.request(\"GET\", url_prometheus, headers=headers_prometheus, params=app_request)\n",
    "response_status = response.status_code\n",
    "result=json.loads(response.text)\n",
    "\n",
    "pod_request_ram = {}\n",
    "for x in result['data']['result']:\n",
    "    pod_request_ram[x['metric']['pod']] = x['value'][1]"
   ]
  },
  {
   "cell_type": "code",
   "execution_count": 8,
   "metadata": {},
   "outputs": [
    {
     "data": {
      "text/plain": [
       "{'recommendationservice-649c7c6489-972gs': '0.11',\n",
       " 'cartservice-6db5d7d7b9-zt6cx': '0.21000000000000002',\n",
       " 'checkoutservice-5b6ff7f7cc-84svg': '0.11',\n",
       " 'adservice-5bd68ffb6f-w7d28': '0.21000000000000002',\n",
       " 'currencyservice-67bf686f79-pdtfm': '0.11',\n",
       " 'frontend-7dbdc9dfd4-qhk6t': '0.11',\n",
       " 'loadgenerator-b8dc894c-frbnw': '0.31',\n",
       " 'productcatalogservice-6d7b46ddff-tcsr7': '0.11',\n",
       " 'emailservice-8644d6ccb-9b8nq': '0.11',\n",
       " 'paymentservice-6fb9444648-hz974': '0.11',\n",
       " 'redis-cart-76df75dcdb-pjzv6': '0.08',\n",
       " 'shippingservice-6f799dd47c-pg24z': '0.11'}"
      ]
     },
     "execution_count": 8,
     "metadata": {},
     "output_type": "execute_result"
    }
   ],
   "source": [
    "app_request = {\"query\":\"sum(kube_pod_container_resource_requests_cpu_cores{namespace='default'}) by (pod)\"}\n",
    "\n",
    "# cURL command for Node Ram Usage\n",
    "response = requests.request(\"GET\", url_prometheus, headers=headers_prometheus, params=app_request)\n",
    "response_status = response.status_code\n",
    "result=json.loads(response.text)\n",
    "\n",
    "pod_request_cpu = {}\n",
    "for x in result['data']['result']:\n",
    "    pod_request_cpu[x['metric']['pod']] = x['value'][1]"
   ]
  },
  {
   "cell_type": "code",
   "execution_count": 9,
   "metadata": {},
   "outputs": [
    {
     "data": {
      "text/plain": [
       "{'gke-onlineboutique-default-pool-db17c72b-3zkj': '6340206592',\n",
       " 'gke-onlineboutique-default-pool-db17c72b-43k0': '6340206592',\n",
       " 'gke-onlineboutique-default-pool-db17c72b-b5xh': '6340206592',\n",
       " 'gke-onlineboutique-default-pool-db17c72b-hhcf': '6340206592'}"
      ]
     },
     "execution_count": 9,
     "metadata": {},
     "output_type": "execute_result"
    }
   ],
   "source": [
    "app_request = {\"query\":\"kube_node_status_allocatable{resource='memory'}\"}\n",
    "\n",
    "# cURL command for Node Ram Usage\n",
    "response = requests.request(\"GET\", url_prometheus, headers=headers_prometheus, params=app_request)\n",
    "response_status = response.status_code\n",
    "result=json.loads(response.text)\n",
    "\n",
    "node_allocated_ram = {}\n",
    "for x in result['data']['result']:\n",
    "    node_allocated_ram[x['metric']['node']] = x['value'][1]"
   ]
  },
  {
   "cell_type": "code",
   "execution_count": 10,
   "metadata": {},
   "outputs": [
    {
     "data": {
      "text/plain": [
       "{'gke-onlineboutique-default-pool-db17c72b-3zkj': '1.93',\n",
       " 'gke-onlineboutique-default-pool-db17c72b-43k0': '1.93',\n",
       " 'gke-onlineboutique-default-pool-db17c72b-b5xh': '1.93',\n",
       " 'gke-onlineboutique-default-pool-db17c72b-hhcf': '1.93'}"
      ]
     },
     "execution_count": 10,
     "metadata": {},
     "output_type": "execute_result"
    }
   ],
   "source": [
    "app_request = {\"query\":\"kube_node_status_allocatable{resource='cpu'}\"}\n",
    "\n",
    "# cURL command for Node Ram Usage\n",
    "response = requests.request(\"GET\", url_prometheus, headers=headers_prometheus, params=app_request)\n",
    "response_status = response.status_code\n",
    "result=json.loads(response.text)\n",
    "\n",
    "node_allocated_cpu = {}\n",
    "for x in result['data']['result']:\n",
    "    node_allocated_cpu[x['metric']['node']] = x['value'][1]"
   ]
  },
  {
   "cell_type": "code",
   "execution_count": 11,
   "metadata": {},
   "outputs": [
    {
     "data": {
      "text/plain": [
       "['gke-onlineboutique-default-pool-db17c72b-3zkj',\n",
       " 'gke-onlineboutique-default-pool-db17c72b-43k0',\n",
       " 'gke-onlineboutique-default-pool-db17c72b-b5xh',\n",
       " 'gke-onlineboutique-default-pool-db17c72b-hhcf']"
      ]
     },
     "execution_count": 11,
     "metadata": {},
     "output_type": "execute_result"
    }
   ],
   "source": [
    "host_list = []\n",
    "for host in node_allocated_cpu:\n",
    "    host_list.append(host)\n",
    "host_list"
   ]
  },
  {
   "cell_type": "code",
   "execution_count": 12,
   "metadata": {},
   "outputs": [
    {
     "data": {
      "text/plain": [
       "{'gke-onlineboutique-default-pool-db17c72b-hhcf': ['loadgenerator-b8dc894c-frbnw',\n",
       "  'frontend-7dbdc9dfd4-qhk6t',\n",
       "  'shippingservice-6f799dd47c-pg24z',\n",
       "  'adservice-5bd68ffb6f-w7d28',\n",
       "  'currencyservice-67bf686f79-pdtfm'],\n",
       " 'gke-onlineboutique-default-pool-db17c72b-3zkj': [],\n",
       " 'gke-onlineboutique-default-pool-db17c72b-43k0': ['productcatalogservice-6d7b46ddff-tcsr7',\n",
       "  'recommendationservice-649c7c6489-972gs'],\n",
       " 'gke-onlineboutique-default-pool-db17c72b-b5xh': ['checkoutservice-5b6ff7f7cc-84svg',\n",
       "  'cartservice-6db5d7d7b9-zt6cx',\n",
       "  'emailservice-8644d6ccb-9b8nq',\n",
       "  'paymentservice-6fb9444648-hz974',\n",
       "  'redis-cart-76df75dcdb-pjzv6']}"
      ]
     },
     "execution_count": 12,
     "metadata": {},
     "output_type": "execute_result"
    }
   ],
   "source": [
    "# POD CPU USAGE\n",
    "deployment_pods = []\n",
    "pod_usage_cpu = {}\n",
    "initial_placement = {}\n",
    "for i in range(number_of_hosts):\n",
    "    query_pod_cpu = {\"query\":\"avg(rate(container_cpu_usage_seconds_total{kubernetes_io_hostname='\"+str(host_machines[i])+\"',pod!~'billowing.*', namespace='default'}[30m])) by (pod)\"}\n",
    "    pod_usage_cpu[host_machines[i]] = {}\n",
    "    \n",
    "    # cURL command for Pod Cpu Usage\n",
    "    response = requests.request(\"GET\", url_prometheus, headers=headers_prometheus, params=query_pod_cpu)\n",
    "    response_status = response.status_code\n",
    "    result=json.loads(response.text)\n",
    "    \n",
    "    initial_placement[host_machines[i]] = []\n",
    "    service_list = []\n",
    "    number_of_pods = len(result[\"data\"][\"result\"])\n",
    "    for k in range(number_of_pods):\n",
    "         service_list.append(result[\"data\"][\"result\"][k][\"metric\"][\"pod\"])\n",
    "         initial_placement[host_machines[i]].append(service_list[k])\n",
    "         pod_usage_cpu[host_machines[i]][service_list[k]] = format(float(result[\"data\"][\"result\"][k][\"value\"][1]), '.4f')\n",
    "    deployment_pods.append(service_list)\n",
    "    service_list.clear()"
   ]
  },
  {
   "cell_type": "code",
   "execution_count": 13,
   "metadata": {},
   "outputs": [
    {
     "data": {
      "text/plain": [
       "{'gke-onlineboutique-default-pool-db17c72b-hhcf': {'loadgenerator-b8dc894c-frbnw': '45731840.0',\n",
       "  'frontend-7dbdc9dfd4-qhk6t': '52469760.0',\n",
       "  'shippingservice-6f799dd47c-pg24z': '36123648.0',\n",
       "  'adservice-5bd68ffb6f-w7d28': '101468160.0',\n",
       "  'currencyservice-67bf686f79-pdtfm': '50933760.0'},\n",
       " 'gke-onlineboutique-default-pool-db17c72b-3zkj': {},\n",
       " 'gke-onlineboutique-default-pool-db17c72b-43k0': {'productcatalogservice-6d7b46ddff-tcsr7': '33028096.0',\n",
       "  'recommendationservice-649c7c6489-972gs': '50781184.0'},\n",
       " 'gke-onlineboutique-default-pool-db17c72b-b5xh': {'cartservice-6db5d7d7b9-zt6cx': '51981312.0',\n",
       "  'emailservice-8644d6ccb-9b8nq': '48292864.0',\n",
       "  'paymentservice-6fb9444648-hz974': '39019520.0',\n",
       "  'redis-cart-76df75dcdb-pjzv6': '25817088.0',\n",
       "  'checkoutservice-5b6ff7f7cc-84svg': '57708544.0'}}"
      ]
     },
     "execution_count": 13,
     "metadata": {},
     "output_type": "execute_result"
    }
   ],
   "source": [
    "# POD RAM USAGE\n",
    "pod_usage_ram = {}\n",
    "\n",
    "for i in range(number_of_hosts):\n",
    "    query_pod_ram = {\"query\":\"avg(container_memory_max_usage_bytes{instance='\"+host_machines[i]+\"', namespace='default', pod!~'billowing.*'}) by(pod)\"}\n",
    "    pod_usage_ram[host_machines[i]] = {}\n",
    "    \n",
    "    # cURL command for Pod Ram Usage\n",
    "    response = requests.request(\"GET\", url_prometheus, headers=headers_prometheus, params=query_pod_ram)\n",
    "    response_status = response.status_code\n",
    "    result=json.loads(response.text)\n",
    "    \n",
    "    number_of_pods = len(result[\"data\"][\"result\"])\n",
    "    for k in range(number_of_pods):\n",
    "         pod = result[\"data\"][\"result\"][k][\"metric\"][\"pod\"]\n",
    "         pod_usage_ram[host_machines[i]][pod] = format(float(result[\"data\"][\"result\"][k][\"value\"][1]), '.1f')"
   ]
  },
  {
   "cell_type": "code",
   "execution_count": 14,
   "metadata": {},
   "outputs": [],
   "source": [
    "#Graph Integration from Kiali - Services and Affinities\n",
    "\n",
    "# Url of Kiali Graph\n",
    "url_kiali = \"http://\"+vm_external_ip+\":\"+str(kiali_port)+\"/kiali/api/namespaces/graph\"\n",
    "\n",
    "query_string_kiali = {\"duration\":\"30m\",\"namespaces\":namespace,\"graphType\":\"workload\"} # Graph type must be Wokload and i can change the graph duration\n",
    "\n",
    "headers_kiali = {\n",
    "    'cache-control': \"no-cache\"\n",
    "}\n",
    "\n",
    "# cURL command\n",
    "response = requests.request(\"GET\", url_kiali, headers=headers_kiali, params=query_string_kiali)\n",
    "\n",
    "response_status = response.status_code\n",
    "\n",
    "result=json.loads(response.text)\n",
    "# INFO NOTE: redis-cart won't appear from kiali graph. There must be internal communication between car\n",
    "#            cartservice and redis-cart so these two pods should be together and calculate as one\n",
    "# Graph Services ID\n",
    "services_id = {}\n",
    "unused_services_id = {}\n",
    "for i in range(len(result[\"elements\"][\"nodes\"])):\n",
    "    if(result[\"elements\"][\"nodes\"][i][\"data\"][\"namespace\"] == namespace):\n",
    "        if(\"app\" not in result[\"elements\"][\"nodes\"][i][\"data\"] or \"traffic\" not in result[\"elements\"][\"nodes\"][i][\"data\"]):\n",
    "            if(\"app\" in result[\"elements\"][\"nodes\"][i][\"data\"]):\n",
    "                key = result[\"elements\"][\"nodes\"][i][\"data\"][\"id\"]\n",
    "                unused_services_id[key] = result[\"elements\"][\"nodes\"][i][\"data\"][\"app\"]\n",
    "                continue\n",
    "            key = result[\"elements\"][\"nodes\"][i][\"data\"][\"id\"]\n",
    "            unused_services_id[key] = result[\"elements\"][\"nodes\"][i][\"data\"][\"service\"]\n",
    "            continue\n",
    "        key = result[\"elements\"][\"nodes\"][i][\"data\"][\"id\"]\n",
    "        services_id[key] = result[\"elements\"][\"nodes\"][i][\"data\"][\"app\"]\n",
    "\n",
    "# Graph edges - Affinities\n",
    "service_affinities = {}\n",
    "service_response_times = {}\n",
    "service_list = []\n",
    "for key in services_id:\n",
    "    service_list.append(services_id[key])\n",
    "service_list.append('redis-cart')\n",
    "\n",
    "total_edjes =len(result[\"elements\"][\"edges\"]) \n",
    "for i in range(total_edjes):\n",
    "    source_id=result[\"elements\"][\"edges\"][i][\"data\"][\"source\"] # Source ID\n",
    "    destination_id=result[\"elements\"][\"edges\"][i][\"data\"][\"target\"] # Destination ID\n",
    "    # Avoid traces from unused services dictionary\n",
    "    if((source_id in unused_services_id.keys()) or (destination_id in unused_services_id.keys())):\n",
    "        continue\n",
    "    \n",
    "    # Track all traces in service id\n",
    "    if((source_id in services_id.keys()) and (destination_id in services_id.keys())):\n",
    "        if(services_id[source_id] not in service_affinities.keys()):\n",
    "            service_affinities[services_id[source_id]] = {}\n",
    "            service_response_times[services_id[source_id]] ={}\n",
    "        if(result[\"elements\"][\"edges\"][i][\"data\"][\"traffic\"][\"protocol\"] == \"http\"):\n",
    "            protocol = \"http\"\n",
    "        else:\n",
    "            protocol = \"grpc\"\n",
    "        service_affinities[services_id[source_id]][services_id[destination_id]] = result[\"elements\"][\"edges\"][i][\"data\"][\"traffic\"][\"rates\"][protocol]\n",
    "        service_response_times[services_id[source_id]][services_id[destination_id]] = result[\"elements\"][\"edges\"][i][\"data\"][\"responseTime\"]"
   ]
  },
  {
   "cell_type": "code",
   "execution_count": 14,
   "metadata": {},
   "outputs": [],
   "source": [
    "# Bistecting K-Means Algorithm (Input: Service_List, Service_Affinities)\n",
    "def bisecting_k_means(service_list, service_affinities):\n",
    "    # Insert K-Value\n",
    "    while(True):\n",
    "        K_value = input('Choose value for K clusters to be created:')\n",
    "        if K_value.isnumeric():\n",
    "            break\n",
    "        else:\n",
    "            print(\"Wrong Input! Given input is not an integer Value!\")\n",
    "\n",
    "    parent_cluster = copy.deepcopy(service_list)\n",
    "    app_clusters = {\"1\": parent_cluster}\n",
    "    cluster_affinities = {\"1\": 0.0}\n",
    "    cluster_count = 1\n",
    "    index = -1\n",
    "    last_index = 1\n",
    "\n",
    "    while(cluster_count < int(K_value)):\n",
    "        # Find the cluster with the least sum of affinities - Maximum Error\n",
    "        min_total_affinity = 100000.0\n",
    "        for x in app_clusters:\n",
    "            # If cluster contains only one service skip\n",
    "            if len(app_clusters[x]) == 1:\n",
    "                continue\n",
    "            if cluster_affinities[x] < min_total_affinity:\n",
    "                parent_cluster = app_clusters[x]\n",
    "                index = x\n",
    "\n",
    "        # Remove the cluster to be split up\n",
    "        app_clusters.pop(index)\n",
    "        cluster_affinities.pop(index)\n",
    "\n",
    "        # Pick random centroids and remove them from list\n",
    "        first_centroid = random.choice(parent_cluster)\n",
    "        parent_cluster.remove(first_centroid)\n",
    "        second_centroid = random.choice(parent_cluster)\n",
    "        parent_cluster.remove(second_centroid)\n",
    "\n",
    "        # Create Lists for centroids\n",
    "        app_clusters[last_index] = [first_centroid]\n",
    "        app_clusters[last_index + 1] = [second_centroid]\n",
    "\n",
    "\n",
    "        sum_affinity_centroid_1 = 0.0\n",
    "        sum_affinity_centroid_2 = 0.0\n",
    "        # Insert services to the random generated centroids\n",
    "        while parent_cluster:\n",
    "            curr_service = parent_cluster.pop(len(parent_cluster) - 1)\n",
    "            affinity_centroid_1 = 0.0\n",
    "            affinity_centroid_2 = 0.0\n",
    "\n",
    "            # Check if service belongs to keys of service_affinities dictionary\n",
    "            if curr_service in service_affinities:\n",
    "                # Check the affinities with centroids\n",
    "                if first_centroid in service_affinities[curr_service]:\n",
    "                    affinity_centroid_1 += float(service_affinities[curr_service][first_centroid])\n",
    "                elif second_centroid in service_affinities[curr_service]:\n",
    "                    affinity_centroid_2 += float(service_affinities[curr_service][second_centroid])\n",
    "\n",
    "            # Check if centroids contain the current service\n",
    "            if first_centroid in service_affinities:\n",
    "                if curr_service in service_affinities[first_centroid]:\n",
    "                    affinity_centroid_1 += float(service_affinities[first_centroid][curr_service])\n",
    "\n",
    "            if second_centroid in service_affinities:\n",
    "                if curr_service in service_affinities[second_centroid]:\n",
    "                    affinity_centroid_2 += float(service_affinities[second_centroid][curr_service])\n",
    "\n",
    "\n",
    "            # Assign service the best centroid according to max affinity\n",
    "            sum_affinity_centroid_1 += affinity_centroid_1\n",
    "            sum_affinity_centroid_2 += affinity_centroid_2\n",
    "            if affinity_centroid_1 < sum_affinity_centroid_2:\n",
    "                app_clusters[last_index + 1].append(curr_service)\n",
    "            elif affinity_centroid_1 > sum_affinity_centroid_2: \n",
    "                app_clusters[last_index].append(curr_service)\n",
    "            else:\n",
    "                app_clusters[random.choice([last_index, last_index+1])].append(curr_service)\n",
    "\n",
    "        # Update total affinities\n",
    "        cluster_affinities[last_index] = sum_affinity_centroid_1\n",
    "        cluster_affinities[last_index + 1] = sum_affinity_centroid_2\n",
    "\n",
    "        # Update variables\n",
    "        last_index += 2\n",
    "        cluster_count += 1\n",
    "        \n",
    "    return app_clusters"
   ]
  },
  {
   "cell_type": "code",
   "execution_count": 15,
   "metadata": {},
   "outputs": [
    {
     "name": "stdout",
     "output_type": "stream",
     "text": [
      "['adservice', 'cartservice', 'checkoutservice', 'currencyservice', 'emailservice', 'frontend', 'loadgenerator', 'paymentservice', 'productcatalogservice', 'recommendationservice', 'shippingservice']\n",
      "shippingservice\n"
     ]
    }
   ],
   "source": [
    "print(service_list)\n",
    "print(service_list.pop(len(service_list) - 1))"
   ]
  },
  {
   "cell_type": "code",
   "execution_count": 19,
   "metadata": {},
   "outputs": [
    {
     "name": "stdin",
     "output_type": "stream",
     "text": [
      "Choose value for K clusters to be created: 4\n"
     ]
    },
    {
     "data": {
      "text/plain": [
       "{1: ['emailservice'],\n",
       " 3: ['adservice', 'checkoutservice', 'frontend'],\n",
       " 5: ['productcatalogservice',\n",
       "  'paymentservice',\n",
       "  'cartservice',\n",
       "  'recommendationservice'],\n",
       " 6: ['loadgenerator', 'currencyservice']}"
      ]
     },
     "execution_count": 19,
     "metadata": {},
     "output_type": "execute_result"
    }
   ],
   "source": [
    "app_partition = bisecting_k_means(service_list)\n",
    "app_partition"
   ]
  },
  {
   "cell_type": "code",
   "execution_count": 18,
   "metadata": {},
   "outputs": [
    {
     "name": "stdout",
     "output_type": "stream",
     "text": [
      "{1: ['loadgenerator', 'recommendationservice', 'paymentservice', 'frontend'], 3: ['emailservice', 'cartservice', 'checkoutservice', 'currencyservice'], 5: ['productcatalogservice'], 6: ['adservice']}\n"
     ]
    }
   ],
   "source": [
    "print(app_partition)"
   ]
  },
  {
   "cell_type": "code",
   "execution_count": null,
   "metadata": {},
   "outputs": [],
   "source": []
  }
 ],
 "metadata": {
  "kernelspec": {
   "display_name": "Python 3",
   "language": "python",
   "name": "python3"
  },
  "language_info": {
   "codemirror_mode": {
    "name": "ipython",
    "version": 3
   },
   "file_extension": ".py",
   "mimetype": "text/x-python",
   "name": "python",
   "nbconvert_exporter": "python",
   "pygments_lexer": "ipython3",
   "version": "3.7.9"
  }
 },
 "nbformat": 4,
 "nbformat_minor": 4
}
